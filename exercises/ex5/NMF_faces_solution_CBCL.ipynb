{
 "cells": [
  {
   "cell_type": "markdown",
   "metadata": {},
   "source": [
    "# Non-Negative Matrix Factorization"
   ]
  },
  {
   "cell_type": "markdown",
   "metadata": {},
   "source": [
    "## Implementing NMF for Image Analysis"
   ]
  },
  {
   "cell_type": "markdown",
   "metadata": {},
   "source": [
    "This notebook can use both Python2 or 3 as a backend.\n",
    "To switch easily from Python3 to Python2, use the conda [environments](https://conda.io/docs/user-guide/tasks/manage-environments.html)."
   ]
  },
  {
   "cell_type": "code",
   "execution_count": null,
   "metadata": {
    "collapsed": true,
    "scrolled": true
   },
   "outputs": [],
   "source": [
    "import os\n",
    "import numpy as np\n",
    "from PIL import Image\n",
    "from matplotlib import pyplot as plt\n",
    "%matplotlib inline"
   ]
  },
  {
   "cell_type": "markdown",
   "metadata": {},
   "source": [
    "### Load data"
   ]
  },
  {
   "cell_type": "code",
   "execution_count": null,
   "metadata": {
    "collapsed": false
   },
   "outputs": [],
   "source": [
    "image_dir = \"face/\"\n",
    "files = os.listdir(image_dir)\n",
    "n = len(files)\n",
    "print(\"Loading \" + str(n) + \" images\")"
   ]
  },
  {
   "cell_type": "code",
   "execution_count": null,
   "metadata": {
    "collapsed": false,
    "scrolled": true
   },
   "outputs": [],
   "source": [
    "imgs = []\n",
    "for i in range(n):\n",
    "    with Image.open(image_dir + files[i]) as img:\n",
    "        imgs.append(img.copy())\n",
    "print(imgs[1].mode)  #gray scale images"
   ]
  },
  {
   "cell_type": "code",
   "execution_count": null,
   "metadata": {
    "collapsed": false,
    "scrolled": true
   },
   "outputs": [],
   "source": [
    "fig, ax = plt.subplots(figsize=(3, 3))\n",
    "im = ax.imshow(imgs[3], cmap='gray', interpolation='none')\n",
    "plt.colorbar(im, ax=ax)\n",
    "plt.title('A face', size=16)\n",
    "plt.show()"
   ]
  },
  {
   "cell_type": "markdown",
   "metadata": {},
   "source": [
    "### Build $X$"
   ]
  },
  {
   "cell_type": "code",
   "execution_count": null,
   "metadata": {
    "collapsed": false
   },
   "outputs": [],
   "source": [
    "# All images have the same shape\n",
    "\n",
    "img0 = imgs[0]\n",
    "width, height = img0.size\n",
    "print(\"image shape: \", (width, height))\n",
    "\n",
    "# Compute input matrix X\n",
    "X_list = [np.ravel(imgs[i].getdata()) for i in range(n)]\n",
    "X = np.array(X_list, dtype=np.float32)  # change list to array \n",
    "\n",
    "print(\"X shape: \", X.shape)"
   ]
  },
  {
   "cell_type": "markdown",
   "metadata": {},
   "source": [
    "Each row in $X$ represents an image, $2429$ images, $19\\times 19=361$ each"
   ]
  },
  {
   "cell_type": "markdown",
   "metadata": {},
   "source": [
    "### Initialize $U$ and $V$"
   ]
  },
  {
   "cell_type": "code",
   "execution_count": null,
   "metadata": {
    "collapsed": false
   },
   "outputs": [],
   "source": [
    "rank = 40\n",
    "lam = 5e-1 # lambda value\n",
    "# ----rand. init. in [0, 1]\n",
    "print \"rand. init.\"\n",
    "U = np.random.random((rank, X.shape[0]))\n",
    "V = np.random.random((rank, X.shape[1]))\n",
    "#  ----init. to be constant matrix, \n",
    "# c = .5 \n",
    "# print \"consant init., c:\", c\n",
    "# U = c*np.ones((rank, X.shape[0]))\n",
    "# V = c*np.ones((rank, X.shape[1]))"
   ]
  },
  {
   "cell_type": "markdown",
   "metadata": {},
   "source": [
    "### Run the Projected  ALS algorithm"
   ]
  },
  {
   "cell_type": "code",
   "execution_count": null,
   "metadata": {
    "collapsed": true
   },
   "outputs": [],
   "source": [
    "nm_iterations = 200\n",
    "for _ in range(nm_iterations):\n",
    "    V = np.linalg.lstsq(np.dot(U, U.T) + lam * np.identity(rank),\n",
    "                        np.dot(U, X))[0]\n",
    "    V = np.maximum(V, 0.)\n",
    "\n",
    "    U = np.linalg.lstsq(np.dot(V, V.T) + lam * np.identity(rank),\n",
    "                        np.dot(V, X.T))[0]\n",
    "    U = np.maximum(U, 0.)"
   ]
  },
  {
   "cell_type": "markdown",
   "metadata": {},
   "source": [
    "### Analyze the results"
   ]
  },
  {
   "cell_type": "code",
   "execution_count": null,
   "metadata": {
    "collapsed": false,
    "scrolled": true
   },
   "outputs": [],
   "source": [
    "print \"V shape:\", V.shape\n",
    "print \"U shape:\", U.shape\n",
    "print \"V.max:\", V.max()\n",
    "print \"U.max:\", U.max()"
   ]
  },
  {
   "cell_type": "markdown",
   "metadata": {},
   "source": [
    "#### Let's plot some image representations"
   ]
  },
  {
   "cell_type": "code",
   "execution_count": null,
   "metadata": {
    "collapsed": false
   },
   "outputs": [],
   "source": [
    "fig, ax = plt.subplots(figsize=(15, 7))\n",
    "im = ax.matshow((U[:, ::40].T))\n",
    "plt.xlabel('Weights', size=20)\n",
    "plt.ylabel('Image representations', size=20)\n",
    "plt.colorbar(im, ax=ax)\n",
    "plt.show()"
   ]
  },
  {
   "cell_type": "markdown",
   "metadata": {},
   "source": [
    "#### Plot some of the base images"
   ]
  },
  {
   "cell_type": "code",
   "execution_count": null,
   "metadata": {
    "collapsed": false
   },
   "outputs": [],
   "source": [
    "fig, ax = plt.subplots(figsize=(16, 7))\n",
    "im = ax.matshow(V)\n",
    "plt.xlabel('Normal representation', size=20)\n",
    "plt.ylabel('Base images', size=20)\n",
    "#plt.colorbar(im, ax=ax)\n",
    "plt.show()"
   ]
  },
  {
   "cell_type": "markdown",
   "metadata": {},
   "source": [
    "#### Plot a few base images after reshaping"
   ]
  },
  {
   "cell_type": "code",
   "execution_count": null,
   "metadata": {
    "collapsed": false,
    "scrolled": false
   },
   "outputs": [],
   "source": [
    "base_images = [x.reshape(-1, width) for x in V]\n",
    "fig, ax = plt.subplots((len(base_images) + 4) / 5, 5,\n",
    "                       figsize=(12, (len(base_images) + 4) / 5 * 3))\n",
    "for i in range(len(ax)):\n",
    "    for j in range(len(ax[i])):\n",
    "        if i * len(ax[0]) + j >= len(base_images):\n",
    "            break\n",
    "        ax[i][j].imshow(base_images[i * len(ax[0]) + j], cmap='gray')\n",
    "        ax[i][j].set_title(i * len(ax[0]) + j, size=16)\n",
    "\n",
    "plt.suptitle('The base images', size=20)\n",
    "fig.tight_layout(rect=[0, 0, 1, 0.97])\n",
    "plt.show()"
   ]
  },
  {
   "cell_type": "code",
   "execution_count": null,
   "metadata": {
    "collapsed": true
   },
   "outputs": [],
   "source": []
  }
 ],
 "metadata": {
  "kernelspec": {
   "display_name": "Python 2",
   "language": "python",
   "name": "python2"
  },
  "language_info": {
   "codemirror_mode": {
    "name": "ipython",
    "version": 2
   },
   "file_extension": ".py",
   "mimetype": "text/x-python",
   "name": "python",
   "nbconvert_exporter": "python",
   "pygments_lexer": "ipython2",
   "version": "2.7.11"
  },
  "latex_envs": {
   "LaTeX_envs_menu_present": true,
   "autoclose": false,
   "autocomplete": true,
   "bibliofile": "biblio.bib",
   "cite_by": "apalike",
   "current_citInitial": 1,
   "eqLabelWithNumbers": true,
   "eqNumInitial": 1,
   "hotkeys": {
    "equation": "Ctrl-E",
    "itemize": "Ctrl-I"
   },
   "labels_anchors": false,
   "latex_user_defs": false,
   "report_style_numbering": false,
   "user_envs_cfg": false
  },
  "toc": {
   "base_numbering": 1,
   "nav_menu": {},
   "number_sections": true,
   "sideBar": true,
   "skip_h1_title": false,
   "title_cell": "Table of Contents",
   "title_sidebar": "Contents",
   "toc_cell": false,
   "toc_position": {},
   "toc_section_display": true,
   "toc_window_display": false
  },
  "varInspector": {
   "cols": {
    "lenName": 16,
    "lenType": 16,
    "lenVar": 40
   },
   "kernels_config": {
    "python": {
     "delete_cmd_postfix": "",
     "delete_cmd_prefix": "del ",
     "library": "var_list.py",
     "varRefreshCmd": "print(var_dic_list())"
    },
    "r": {
     "delete_cmd_postfix": ") ",
     "delete_cmd_prefix": "rm(",
     "library": "var_list.r",
     "varRefreshCmd": "cat(var_dic_list()) "
    }
   },
   "types_to_exclude": [
    "module",
    "function",
    "builtin_function_or_method",
    "instance",
    "_Feature"
   ],
   "window_display": false
  }
 },
 "nbformat": 4,
 "nbformat_minor": 1
}
